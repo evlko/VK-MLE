{
 "cells": [
  {
   "cell_type": "markdown",
   "metadata": {},
   "source": [
    "Импортируем нужные библиотеки"
   ]
  },
  {
   "cell_type": "code",
   "execution_count": 1,
   "metadata": {},
   "outputs": [],
   "source": [
    "import torch\n",
    "import pytorch_lightning as pl\n",
    "from pytorch_lightning.loggers.tensorboard import TensorBoardLogger\n",
    "from pytorch_lightning.loggers import MLFlowLogger"
   ]
  },
  {
   "cell_type": "markdown",
   "metadata": {},
   "source": [
    "Импортируем необходимые классы"
   ]
  },
  {
   "cell_type": "code",
   "execution_count": 2,
   "metadata": {},
   "outputs": [],
   "source": [
    "import config\n",
    "from dataset import DataModule\n",
    "from model import RankingModel"
   ]
  },
  {
   "cell_type": "markdown",
   "metadata": {},
   "source": [
    "Задаем сиды, чтобы можно было воспроизводить результаты"
   ]
  },
  {
   "cell_type": "code",
   "execution_count": 3,
   "metadata": {},
   "outputs": [
    {
     "name": "stderr",
     "output_type": "stream",
     "text": [
      "Seed set to 42\n"
     ]
    },
    {
     "data": {
      "text/plain": [
       "42"
      ]
     },
     "execution_count": 3,
     "metadata": {},
     "output_type": "execute_result"
    }
   ],
   "source": [
    "torch.random.manual_seed(config.RANDOM_SEED)\n",
    "pl.seed_everything(config.RANDOM_SEED)"
   ]
  },
  {
   "cell_type": "code",
   "execution_count": 4,
   "metadata": {},
   "outputs": [],
   "source": [
    "loggers = []"
   ]
  },
  {
   "cell_type": "markdown",
   "metadata": {},
   "source": [
    "Подключаем `TensorBoardLogger` логирование"
   ]
  },
  {
   "cell_type": "code",
   "execution_count": 5,
   "metadata": {},
   "outputs": [],
   "source": [
    "if config.TENSORBOARD_LOGGER:\n",
    "    tensorboard_logger = TensorBoardLogger(save_dir=\"tb_logs\", name=\"ranking_model\")\n",
    "    loggers.append(tensorboard_logger)"
   ]
  },
  {
   "cell_type": "markdown",
   "metadata": {},
   "source": [
    "Подключаем `MLFlow`"
   ]
  },
  {
   "cell_type": "code",
   "execution_count": 6,
   "metadata": {},
   "outputs": [],
   "source": [
    "if config.MLFLOW_LOGGER:\n",
    "    mlf_logger = MLFlowLogger(\n",
    "        experiment_name=config.EXPERIMENT_NAME,\n",
    "        tracking_uri=config.TRACKING_URL,\n",
    "        log_model=config.LOG_MODEL,\n",
    "    )\n",
    "    loggers.append(mlf_logger)"
   ]
  },
  {
   "cell_type": "markdown",
   "metadata": {},
   "source": [
    "Создаем необходимые инстанты: данные, модель, учитель."
   ]
  },
  {
   "cell_type": "code",
   "execution_count": 7,
   "metadata": {},
   "outputs": [
    {
     "name": "stderr",
     "output_type": "stream",
     "text": [
      "GPU available: True (mps), used: True\n",
      "TPU available: False, using: 0 TPU cores\n",
      "IPU available: False, using: 0 IPUs\n",
      "HPU available: False, using: 0 HPUs\n"
     ]
    }
   ],
   "source": [
    "dm = DataModule(\n",
    "    config.TRAIN_DATA_PATH,\n",
    "    config.TEST_DATA_PATH,\n",
    "    config.BATCH_SIZE,\n",
    "    config.NUM_WORKERS,\n",
    "    config.TRAIN_VAL_RATIO,\n",
    ")\n",
    "model = RankingModel(config.INPUT_SIZE, config.LEARNING_RATE)\n",
    "trainer = pl.Trainer(\n",
    "    accelerator=config.ACCELERATOR,\n",
    "    devices=config.DEVICES,\n",
    "    min_epochs=config.MIN_EPOCHS,\n",
    "    max_epochs=config.MAX_EPOCHS,\n",
    "    logger=loggers,\n",
    ")"
   ]
  },
  {
   "cell_type": "markdown",
   "metadata": {},
   "source": [
    "Обучаем модель, и тестируем и валидируем."
   ]
  },
  {
   "cell_type": "code",
   "execution_count": 8,
   "metadata": {},
   "outputs": [
    {
     "name": "stderr",
     "output_type": "stream",
     "text": [
      "\n",
      "  | Name    | Type    | Params\n",
      "------------------------------------\n",
      "0 | fc1     | Linear  | 3.8 K \n",
      "1 | fc2     | Linear  | 32.9 K\n",
      "2 | fc3     | Linear  | 129   \n",
      "3 | loss_fn | BCELoss | 0     \n",
      "------------------------------------\n",
      "36.9 K    Trainable params\n",
      "0         Non-trainable params\n",
      "36.9 K    Total params\n",
      "0.147     Total estimated model params size (MB)\n"
     ]
    },
    {
     "name": "stdout",
     "output_type": "stream",
     "text": [
      "Epoch 12: 100%|██████████| 9/9 [00:00<00:00, 126.96it/s]                   "
     ]
    },
    {
     "name": "stderr",
     "output_type": "stream",
     "text": [
      "`Trainer.fit` stopped: `max_epochs=13` reached.\n"
     ]
    },
    {
     "name": "stdout",
     "output_type": "stream",
     "text": [
      "Epoch 12: 100%|██████████| 9/9 [00:00<00:00, 116.92it/s]\n",
      "Validation DataLoader 0: 100%|██████████| 3/3 [00:00<00:00, 80.91it/s] \n",
      "────────────────────────────────────────────────────────────────────────────────────────────────────────────────────────\n",
      "     Validate metric           DataLoader 0\n",
      "────────────────────────────────────────────────────────────────────────────────────────────────────────────────────────\n",
      "        val_loss            0.6278309226036072\n",
      "        val_ndcg            0.8412059545516968\n",
      "────────────────────────────────────────────────────────────────────────────────────────────────────────────────────────\n",
      "Testing DataLoader 0: 100%|██████████| 24/24 [00:00<00:00, 359.09it/s]\n",
      "────────────────────────────────────────────────────────────────────────────────────────────────────────────────────────\n",
      "       Test metric             DataLoader 0\n",
      "────────────────────────────────────────────────────────────────────────────────────────────────────────────────────────\n",
      "        test_loss           0.5728029012680054\n",
      "        test_ndcg           0.5769645571708679\n",
      "────────────────────────────────────────────────────────────────────────────────────────────────────────────────────────\n"
     ]
    },
    {
     "data": {
      "text/plain": [
       "[{'test_loss': 0.5728029012680054, 'test_ndcg': 0.5769645571708679}]"
      ]
     },
     "execution_count": 8,
     "metadata": {},
     "output_type": "execute_result"
    }
   ],
   "source": [
    "trainer.fit(model, dm)\n",
    "trainer.validate(model, dm)\n",
    "trainer.test(model, dm)"
   ]
  },
  {
   "cell_type": "markdown",
   "metadata": {},
   "source": [
    "Сохраняем модель, чтобы использовать её в проде"
   ]
  },
  {
   "cell_type": "code",
   "execution_count": 9,
   "metadata": {},
   "outputs": [],
   "source": [
    "script = model.to_torchscript()\n",
    "torch.jit.save(script, config.MODEL_PATH)"
   ]
  },
  {
   "cell_type": "markdown",
   "metadata": {},
   "source": [
    "Проверим размер модели"
   ]
  },
  {
   "cell_type": "code",
   "execution_count": 10,
   "metadata": {},
   "outputs": [
    {
     "name": "stdout",
     "output_type": "stream",
     "text": [
      "model size: 0.141MB\n"
     ]
    }
   ],
   "source": [
    "print(\"model size: {:.3f}MB\".format(model.get_model_size()))"
   ]
  },
  {
   "cell_type": "markdown",
   "metadata": {},
   "source": [
    "В целом модель занимает мало места, можно не делать квантизацию или пост-пруннинг."
   ]
  }
 ],
 "metadata": {
  "kernelspec": {
   "display_name": "Python 3",
   "language": "python",
   "name": "python3"
  },
  "language_info": {
   "codemirror_mode": {
    "name": "ipython",
    "version": 3
   },
   "file_extension": ".py",
   "mimetype": "text/x-python",
   "name": "python",
   "nbconvert_exporter": "python",
   "pygments_lexer": "ipython3",
   "version": "3.12.0"
  }
 },
 "nbformat": 4,
 "nbformat_minor": 2
}
